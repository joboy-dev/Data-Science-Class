{
  "nbformat": 4,
  "nbformat_minor": 0,
  "metadata": {
    "colab": {
      "provenance": [],
      "gpuType": "T4"
    },
    "kernelspec": {
      "name": "python3",
      "display_name": "Python 3"
    },
    "language_info": {
      "name": "python"
    },
    "accelerator": "GPU"
  },
  "cells": [
    {
      "cell_type": "markdown",
      "source": [
        "# Pytorch Workflow\n",
        "\n",
        "* Getting data ready\n",
        "* Generate a dataset\n",
        "* Building the model\n",
        "* Fit the trained data in the model\n",
        "* Make predictions\n",
        "* Save the model"
      ],
      "metadata": {
        "id": "TZrPGjoPSSFC"
      }
    },
    {
      "cell_type": "code",
      "source": [
        "import torch\n",
        "import numpy as np\n",
        "from sklearn.model_selection import train_test_split\n",
        "import matplotlib.pyplot as plt\n",
        "torch.__version__"
      ],
      "metadata": {
        "colab": {
          "base_uri": "https://localhost:8080/",
          "height": 35
        },
        "id": "31yTtGqHT7ku",
        "outputId": "387c22a7-d747-47d8-8777-eadae6c9e03e"
      },
      "execution_count": 24,
      "outputs": [
        {
          "output_type": "execute_result",
          "data": {
            "text/plain": [
              "'2.2.1+cu121'"
            ],
            "application/vnd.google.colaboratory.intrinsic+json": {
              "type": "string"
            }
          },
          "metadata": {},
          "execution_count": 24
        }
      ]
    },
    {
      "cell_type": "markdown",
      "source": [
        "## Getting data"
      ],
      "metadata": {
        "id": "fgdTK0MwSD7L"
      }
    },
    {
      "cell_type": "code",
      "source": [
        "# Parameters for the model\n",
        "weight = 0.7\n",
        "bias = 0.3\n",
        "\n",
        "# Independent feature\n",
        "X = torch.arange(start=0, end=1, step=0.02).unsqueeze(dim=1)  # 2 dimensions\n",
        "\n",
        "# Targer label\n",
        "y = ((weight * X) + bias).squeeze()  # 1 dim"
      ],
      "metadata": {
        "id": "M5cIKuGcToI2"
      },
      "execution_count": 25,
      "outputs": []
    },
    {
      "cell_type": "code",
      "source": [
        "print(X)"
      ],
      "metadata": {
        "colab": {
          "base_uri": "https://localhost:8080/"
        },
        "id": "g_Ub6OACXZgj",
        "outputId": "5a9399bb-40ae-47bd-ba63-77e01a64f477"
      },
      "execution_count": 26,
      "outputs": [
        {
          "output_type": "stream",
          "name": "stdout",
          "text": [
            "tensor([[0.0000],\n",
            "        [0.0200],\n",
            "        [0.0400],\n",
            "        [0.0600],\n",
            "        [0.0800],\n",
            "        [0.1000],\n",
            "        [0.1200],\n",
            "        [0.1400],\n",
            "        [0.1600],\n",
            "        [0.1800],\n",
            "        [0.2000],\n",
            "        [0.2200],\n",
            "        [0.2400],\n",
            "        [0.2600],\n",
            "        [0.2800],\n",
            "        [0.3000],\n",
            "        [0.3200],\n",
            "        [0.3400],\n",
            "        [0.3600],\n",
            "        [0.3800],\n",
            "        [0.4000],\n",
            "        [0.4200],\n",
            "        [0.4400],\n",
            "        [0.4600],\n",
            "        [0.4800],\n",
            "        [0.5000],\n",
            "        [0.5200],\n",
            "        [0.5400],\n",
            "        [0.5600],\n",
            "        [0.5800],\n",
            "        [0.6000],\n",
            "        [0.6200],\n",
            "        [0.6400],\n",
            "        [0.6600],\n",
            "        [0.6800],\n",
            "        [0.7000],\n",
            "        [0.7200],\n",
            "        [0.7400],\n",
            "        [0.7600],\n",
            "        [0.7800],\n",
            "        [0.8000],\n",
            "        [0.8200],\n",
            "        [0.8400],\n",
            "        [0.8600],\n",
            "        [0.8800],\n",
            "        [0.9000],\n",
            "        [0.9200],\n",
            "        [0.9400],\n",
            "        [0.9600],\n",
            "        [0.9800]])\n"
          ]
        }
      ]
    },
    {
      "cell_type": "code",
      "source": [
        "print(y, len(y))"
      ],
      "metadata": {
        "colab": {
          "base_uri": "https://localhost:8080/"
        },
        "id": "vtgsu1ecXj2f",
        "outputId": "86852bab-4959-46ce-adbb-bc22c2c29f63"
      },
      "execution_count": 27,
      "outputs": [
        {
          "output_type": "stream",
          "name": "stdout",
          "text": [
            "tensor([0.3000, 0.3140, 0.3280, 0.3420, 0.3560, 0.3700, 0.3840, 0.3980, 0.4120,\n",
            "        0.4260, 0.4400, 0.4540, 0.4680, 0.4820, 0.4960, 0.5100, 0.5240, 0.5380,\n",
            "        0.5520, 0.5660, 0.5800, 0.5940, 0.6080, 0.6220, 0.6360, 0.6500, 0.6640,\n",
            "        0.6780, 0.6920, 0.7060, 0.7200, 0.7340, 0.7480, 0.7620, 0.7760, 0.7900,\n",
            "        0.8040, 0.8180, 0.8320, 0.8460, 0.8600, 0.8740, 0.8880, 0.9020, 0.9160,\n",
            "        0.9300, 0.9440, 0.9580, 0.9720, 0.9860]) 50\n"
          ]
        }
      ]
    },
    {
      "cell_type": "code",
      "source": [
        "# Increase dimensions for X because trainig will require the dimension for X to be at least 2 dimensions\n",
        "\n",
        "# X.reshape((1, 50)).ndim\n",
        "# X.unsqueeze(dim=0)"
      ],
      "metadata": {
        "id": "8c0v53u6aPJ9"
      },
      "execution_count": 28,
      "outputs": []
    },
    {
      "cell_type": "markdown",
      "source": [
        "## Split data into train and test data"
      ],
      "metadata": {
        "id": "fd1OPYgOZJwH"
      }
    },
    {
      "cell_type": "code",
      "source": [
        "X_train, X_test, y_train, y_test = train_test_split(X, y, test_size=0.2, random_state=42, shuffle=False)"
      ],
      "metadata": {
        "id": "YXKN1lRSX4w8"
      },
      "execution_count": 29,
      "outputs": []
    },
    {
      "cell_type": "code",
      "source": [
        "len(X_train)"
      ],
      "metadata": {
        "colab": {
          "base_uri": "https://localhost:8080/"
        },
        "id": "DMf5z_ToX8Ey",
        "outputId": "a5392969-bb7c-4fe5-b2c9-eb13ba6fb33a"
      },
      "execution_count": 30,
      "outputs": [
        {
          "output_type": "execute_result",
          "data": {
            "text/plain": [
              "40"
            ]
          },
          "metadata": {},
          "execution_count": 30
        }
      ]
    },
    {
      "cell_type": "code",
      "source": [
        "len(X_test)"
      ],
      "metadata": {
        "colab": {
          "base_uri": "https://localhost:8080/"
        },
        "id": "NrRsrsMZcQ9G",
        "outputId": "c3977b03-5ab8-4b37-b8a8-b417a550eca0"
      },
      "execution_count": 31,
      "outputs": [
        {
          "output_type": "execute_result",
          "data": {
            "text/plain": [
              "10"
            ]
          },
          "metadata": {},
          "execution_count": 31
        }
      ]
    },
    {
      "cell_type": "code",
      "source": [
        "def plot_prediction(train_data=X_train,\n",
        "                    train_label=y_train,\n",
        "                    test_data=X_test,\n",
        "                    test_label=y_test,\n",
        "                    prediction=None):\n",
        "  '''Plot trainig data, test data and compare predictions'''\n",
        "  plt.figure(figsize=(10, 7))\n",
        "\n",
        "  # Plot train data\n",
        "  plt.scatter(train_data, train_label, c='blue', label='Training data')\n",
        "\n",
        "  # Plot test data\n",
        "  plt.scatter(test_data, test_label, c='green', label='Test data')\n",
        "\n",
        "  if prediction is not None:\n",
        "    plt.scatter(test_data, prediction, c='red', label='Prediction')\n",
        "\n",
        "  plt.legend(prop={\"size\": 14})\n",
        "  plt.show()\n"
      ],
      "metadata": {
        "id": "58z9ftkPdE6K"
      },
      "execution_count": 32,
      "outputs": []
    },
    {
      "cell_type": "code",
      "source": [
        "plot_prediction()"
      ],
      "metadata": {
        "colab": {
          "base_uri": "https://localhost:8080/",
          "height": 599
        },
        "id": "zdUt-rw-ebBg",
        "outputId": "43c2cd8c-cfe3-47dc-ad33-37568fa333d9"
      },
      "execution_count": 33,
      "outputs": [
        {
          "output_type": "display_data",
          "data": {
            "text/plain": [
              "<Figure size 1000x700 with 1 Axes>"
            ],
            "image/png": "[encoded data removed]"
          },
          "metadata": {}
        }
      ]
    },
    {
      "cell_type": "markdown",
      "source": [
        "## Building a Deep learning model: Linear Regression model"
      ],
      "metadata": {
        "id": "X4vHe3YEcwUI"
      }
    },
    {
      "cell_type": "code",
      "source": [
        "import torch.nn as nn\n",
        "\n",
        "class LinearRegressionModel(nn.Module):\n",
        "  '''Model that utilizes linear regression as a base model'''\n",
        "\n",
        "  def __init__(self):\n",
        "    super().__init__()\n",
        "    self.weight = nn.Parameter(torch.randn(1, dtype=torch.float), requires_grad=True)\n",
        "    self.bias = nn.Parameter(torch.randn(1, dtype=torch.float), requires_grad=True)\n",
        "\n",
        "  def forward(self, X: torch.tensor) -> torch.tensor:\n",
        "    return (self.weight * X) + self.bias"
      ],
      "metadata": {
        "id": "i9T4w5ZWcWXx"
      },
      "execution_count": 34,
      "outputs": []
    },
    {
      "cell_type": "code",
      "source": [
        "torch.manual_seed(42)\n",
        "# create object\n",
        "lreg_model = LinearRegressionModel()"
      ],
      "metadata": {
        "id": "0LyqM9AplSTO"
      },
      "execution_count": 35,
      "outputs": []
    },
    {
      "cell_type": "code",
      "source": [
        "lreg_model.weight"
      ],
      "metadata": {
        "colab": {
          "base_uri": "https://localhost:8080/"
        },
        "id": "oWlYLmaQrrU9",
        "outputId": "a55fccee-08c1-4805-de82-133f1e9e9030"
      },
      "execution_count": 36,
      "outputs": [
        {
          "output_type": "execute_result",
          "data": {
            "text/plain": [
              "Parameter containing:\n",
              "tensor([0.3367], requires_grad=True)"
            ]
          },
          "metadata": {},
          "execution_count": 36
        }
      ]
    },
    {
      "cell_type": "code",
      "source": [
        "lreg_model.bias"
      ],
      "metadata": {
        "colab": {
          "base_uri": "https://localhost:8080/"
        },
        "id": "MxZameFgru0a",
        "outputId": "3ab90f72-36b0-461d-b5c0-d8019913d124"
      },
      "execution_count": 37,
      "outputs": [
        {
          "output_type": "execute_result",
          "data": {
            "text/plain": [
              "Parameter containing:\n",
              "tensor([0.1288], requires_grad=True)"
            ]
          },
          "metadata": {},
          "execution_count": 37
        }
      ]
    },
    {
      "cell_type": "markdown",
      "source": [
        "## Train model"
      ],
      "metadata": {
        "id": "QETKFgDRnbGJ"
      }
    },
    {
      "cell_type": "code",
      "source": [
        "with torch.inference_mode():\n",
        "  y_pred = lreg_model(X_test)\n",
        "\n",
        "y_pred"
      ],
      "metadata": {
        "colab": {
          "base_uri": "https://localhost:8080/"
        },
        "id": "-AHm7aPVsiNE",
        "outputId": "1e8dfe7a-c2c0-4fae-e007-7cc865437ce5"
      },
      "execution_count": 38,
      "outputs": [
        {
          "output_type": "execute_result",
          "data": {
            "text/plain": [
              "tensor([[0.3982],\n",
              "        [0.4049],\n",
              "        [0.4116],\n",
              "        [0.4184],\n",
              "        [0.4251],\n",
              "        [0.4318],\n",
              "        [0.4386],\n",
              "        [0.4453],\n",
              "        [0.4520],\n",
              "        [0.4588]])"
            ]
          },
          "metadata": {},
          "execution_count": 38
        }
      ]
    },
    {
      "cell_type": "code",
      "source": [
        "plot_prediction(prediction=y_pred)"
      ],
      "metadata": {
        "colab": {
          "base_uri": "https://localhost:8080/",
          "height": 599
        },
        "id": "WzjC7kpz3OKX",
        "outputId": "94a8a23d-9a6c-449a-b4b7-9a1238ed7f0f"
      },
      "execution_count": 39,
      "outputs": [
        {
          "output_type": "display_data",
          "data": {
            "text/plain": [
              "<Figure size 1000x700 with 1 Axes>"
            ],
            "image/png": "[encoded data removed]"
          },
          "metadata": {}
        }
      ]
    },
    {
      "cell_type": "code",
      "source": [
        "loss = y_test - y_pred\n",
        "loss"
      ],
      "metadata": {
        "colab": {
          "base_uri": "https://localhost:8080/"
        },
        "id": "Sed6hGGL4D1o",
        "outputId": "c43f398b-f9f4-4eea-d458-af6f2e095f9e"
      },
      "execution_count": 40,
      "outputs": [
        {
          "output_type": "execute_result",
          "data": {
            "text/plain": [
              "tensor([[0.4618, 0.4758, 0.4898, 0.5038, 0.5178, 0.5318, 0.5458, 0.5598, 0.5738,\n",
              "         0.5878],\n",
              "        [0.4551, 0.4691, 0.4831, 0.4971, 0.5111, 0.5251, 0.5391, 0.5531, 0.5671,\n",
              "         0.5811],\n",
              "        [0.4484, 0.4624, 0.4764, 0.4904, 0.5044, 0.5184, 0.5324, 0.5464, 0.5604,\n",
              "         0.5744],\n",
              "        [0.4416, 0.4556, 0.4696, 0.4836, 0.4976, 0.5116, 0.5256, 0.5396, 0.5536,\n",
              "         0.5676],\n",
              "        [0.4349, 0.4489, 0.4629, 0.4769, 0.4909, 0.5049, 0.5189, 0.5329, 0.5469,\n",
              "         0.5609],\n",
              "        [0.4282, 0.4422, 0.4562, 0.4702, 0.4842, 0.4982, 0.5122, 0.5262, 0.5402,\n",
              "         0.5542],\n",
              "        [0.4214, 0.4354, 0.4494, 0.4634, 0.4774, 0.4914, 0.5054, 0.5194, 0.5334,\n",
              "         0.5474],\n",
              "        [0.4147, 0.4287, 0.4427, 0.4567, 0.4707, 0.4847, 0.4987, 0.5127, 0.5267,\n",
              "         0.5407],\n",
              "        [0.4080, 0.4220, 0.4360, 0.4500, 0.4640, 0.4780, 0.4920, 0.5060, 0.5200,\n",
              "         0.5340],\n",
              "        [0.4012, 0.4152, 0.4292, 0.4432, 0.4572, 0.4712, 0.4852, 0.4992, 0.5132,\n",
              "         0.5272]])"
            ]
          },
          "metadata": {},
          "execution_count": 40
        }
      ]
    },
    {
      "cell_type": "markdown",
      "source": [
        "## Loss Function and Optimization"
      ],
      "metadata": {
        "id": "-vlclolE4Lb4"
      }
    },
    {
      "cell_type": "code",
      "source": [
        "loss_fn = nn.L1Loss()\n",
        "optimizer = torch.optim.SGD(params=lreg_model.parameters(), lr=0.01)"
      ],
      "metadata": {
        "id": "FkX3niR24pin"
      },
      "execution_count": 41,
      "outputs": []
    },
    {
      "cell_type": "markdown",
      "source": [
        "## Build training loop"
      ],
      "metadata": {
        "id": "6MZFpR_H7Pq2"
      }
    },
    {
      "cell_type": "code",
      "source": [
        "torch.manual_seed(42)\n",
        "\n",
        "# set the number of loops (epoch)\n",
        "epochs = 100\n",
        "\n",
        "# create an empty loss list to track values\n",
        "train_loss_values = []\n",
        "test_loss_values = []\n",
        "epoch_count = []\n",
        "\n",
        "for epoch in range(epochs):\n",
        "  # put the model in the training mode\n",
        "  lreg_model.train()\n",
        "\n",
        "  # Forward propagation\n",
        "  y_pred = lreg_model(X_train)\n",
        "\n",
        "  # Calulate loss\n",
        "  loss = loss_fn(y_pred, y_test)\n",
        "\n",
        "  # Optimize the model\n",
        "  optimizer.zero_grad()\n",
        "\n",
        "  # Backward propagation\n",
        "  loss.backward()\n",
        "\n",
        "  # Progress the optimizer\n",
        "  optimizer.step()\n",
        "\n",
        "  # Testing the model in evaluation mode\n",
        "  lreg_model.eval()\n",
        "\n",
        "  with torch.inference_mode():\n",
        "    # Forward propagation on test data\n",
        "    test_pred = lreg_model(X_test)\n",
        "\n",
        "    # Calculate the loss\n",
        "    test_loss = loss_fn(test_pred, y_test.type(torch.float))\n",
        "\n",
        "    # Print out result\n",
        "    if epoch % 10 == 0:\n",
        "      epoch_count.append(epoch)\n",
        "      train_loss_values.append(loss.detach().numpy())\n",
        "      test_loss_values.append(test_loss.detach().numpy())\n",
        "\n",
        "      print(f'Epoch: {epoch} | MAE Train Loss: {loss} | MAE Test Loss: {test_loss}')"
      ],
      "metadata": {
        "colab": {
          "base_uri": "https://localhost:8080/"
        },
        "id": "RzegoBma6sFc",
        "outputId": "87209aba-7fb1-4f71-bcbd-723ebc11178f"
      },
      "execution_count": 42,
      "outputs": [
        {
          "output_type": "stream",
          "name": "stdout",
          "text": [
            "Epoch: 0 | MAE Train Loss: 0.6628813743591309 | MAE Test Loss: 0.48106515407562256\n",
            "Epoch: 10 | MAE Train Loss: 0.547671377658844 | MAE Test Loss: 0.3463551998138428\n",
            "Epoch: 20 | MAE Train Loss: 0.4324614405632019 | MAE Test Loss: 0.21164533495903015\n",
            "Epoch: 30 | MAE Train Loss: 0.3172515630722046 | MAE Test Loss: 0.07836812734603882\n",
            "Epoch: 40 | MAE Train Loss: 0.20473439991474152 | MAE Test Loss: 0.06141294538974762\n",
            "Epoch: 50 | MAE Train Loss: 0.14029106497764587 | MAE Test Loss: 0.14655113220214844\n",
            "Epoch: 60 | MAE Train Loss: 0.11949514597654343 | MAE Test Loss: 0.19101926684379578\n",
            "Epoch: 70 | MAE Train Loss: 0.11111047863960266 | MAE Test Loss: 0.21145425736904144\n",
            "Epoch: 80 | MAE Train Loss: 0.10633546113967896 | MAE Test Loss: 0.21933342516422272\n",
            "Epoch: 90 | MAE Train Loss: 0.10267164558172226 | MAE Test Loss: 0.2203768789768219\n"
          ]
        },
        {
          "output_type": "stream",
          "name": "stderr",
          "text": [
            "/usr/local/lib/python3.10/dist-packages/torch/nn/modules/loss.py:101: UserWarning: Using a target size (torch.Size([10])) that is different to the input size (torch.Size([40, 1])). This will likely lead to incorrect results due to broadcasting. Please ensure they have the same size.\n",
            "  return F.l1_loss(input, target, reduction=self.reduction)\n",
            "/usr/local/lib/python3.10/dist-packages/torch/nn/modules/loss.py:101: UserWarning: Using a target size (torch.Size([10])) that is different to the input size (torch.Size([10, 1])). This will likely lead to incorrect results due to broadcasting. Please ensure they have the same size.\n",
            "  return F.l1_loss(input, target, reduction=self.reduction)\n"
          ]
        }
      ]
    },
    {
      "cell_type": "markdown",
      "source": [
        "## Plot loss curve"
      ],
      "metadata": {
        "id": "E3QGWm1aBw63"
      }
    },
    {
      "cell_type": "code",
      "source": [
        "plt.plot(epoch_count, train_loss_values, label='Train loss')\n",
        "plt.plot(epoch_count, test_loss_values, label='Test loss')\n",
        "plt.title('Trainins and test loss curve')\n",
        "plt.ylabel('Loss')\n",
        "plt.xlabel('Epochs')\n",
        "plt.legend()\n",
        "plt.show()"
      ],
      "metadata": {
        "colab": {
          "base_uri": "https://localhost:8080/",
          "height": 472
        },
        "id": "NP6Nxl5GBrdg",
        "outputId": "f054bd3f-fad7-4326-a4c5-e759d931a1db"
      },
      "execution_count": 43,
      "outputs": [
        {
          "output_type": "display_data",
          "data": {
            "text/plain": [
              "<Figure size 640x480 with 1 Axes>"
            ],
            "image/png": "[encoded data removed]"
          },
          "metadata": {}
        }
      ]
    },
    {
      "cell_type": "markdown",
      "source": [
        "## Find model best learning parameter"
      ],
      "metadata": {
        "id": "qsHsZUBFFMeF"
      }
    },
    {
      "cell_type": "code",
      "source": [
        "lreg_model.state_dict()"
      ],
      "metadata": {
        "colab": {
          "base_uri": "https://localhost:8080/"
        },
        "id": "Svg07etfFSyd",
        "outputId": "2e38d3e1-0f0b-4524-9821-a142bd135bcc"
      },
      "execution_count": 44,
      "outputs": [
        {
          "output_type": "execute_result",
          "data": {
            "text/plain": [
              "OrderedDict([('weight', tensor([0.4714])), ('bias', tensor([0.7214]))])"
            ]
          },
          "metadata": {},
          "execution_count": 44
        }
      ]
    },
    {
      "cell_type": "code",
      "source": [
        "lreg_model.eval()\n",
        "\n",
        "with torch.inference_mode():\n",
        "  y_pred = lreg_model(X_test)\n",
        "\n",
        "y_pred"
      ],
      "metadata": {
        "colab": {
          "base_uri": "https://localhost:8080/"
        },
        "id": "PR1OME-_FrB_",
        "outputId": "9308317a-62a6-4e40-e5f7-396a416a97b4"
      },
      "execution_count": 45,
      "outputs": [
        {
          "output_type": "execute_result",
          "data": {
            "text/plain": [
              "tensor([[1.0985],\n",
              "        [1.1079],\n",
              "        [1.1174],\n",
              "        [1.1268],\n",
              "        [1.1362],\n",
              "        [1.1456],\n",
              "        [1.1551],\n",
              "        [1.1645],\n",
              "        [1.1739],\n",
              "        [1.1833]])"
            ]
          },
          "metadata": {},
          "execution_count": 45
        }
      ]
    },
    {
      "cell_type": "code",
      "source": [
        "plot_prediction(prediction=y_pred)"
      ],
      "metadata": {
        "colab": {
          "base_uri": "https://localhost:8080/",
          "height": 599
        },
        "id": "1pBBWMMNF4Oh",
        "outputId": "a08a97f8-bfc4-4744-877d-744af2885eee"
      },
      "execution_count": 46,
      "outputs": [
        {
          "output_type": "display_data",
          "data": {
            "text/plain": [
              "<Figure size 1000x700 with 1 Axes>"
            ],
            "image/png": "[encoded data removed]"
          },
          "metadata": {}
        }
      ]
    },
    {
      "cell_type": "markdown",
      "source": [
        "## Save model"
      ],
      "metadata": {
        "id": "iB8qRSmjG5bv"
      }
    },
    {
      "cell_type": "code",
      "source": [
        "from pathlib import Path\n",
        "\n",
        "MODEL_PATH = Path('models')\n",
        "MODEL_PATH.mkdir(parents=True, exist_ok=True)\n",
        "\n",
        "MODEL_NAME = 'my_first_deep_learning_model.pth'\n",
        "MODEL_SAVE_PATH = MODEL_PATH / MODEL_NAME\n",
        "\n",
        "print(f'Sabing model to {MODEL_SAVE_PATH}')\n",
        "torch.save(obj=lreg_model.state_dict(), f=MODEL_SAVE_PATH)"
      ],
      "metadata": {
        "colab": {
          "base_uri": "https://localhost:8080/"
        },
        "id": "HuRYDeXhG7bc",
        "outputId": "8a5b9107-1848-4ed5-fd39-5f1ca41cf56c"
      },
      "execution_count": 47,
      "outputs": [
        {
          "output_type": "stream",
          "name": "stdout",
          "text": [
            "Sabing model to models/my_first_deep_learning_model.pth\n"
          ]
        }
      ]
    }
  ]
}